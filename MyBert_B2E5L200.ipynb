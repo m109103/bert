{
  "cells": [
    {
      "cell_type": "markdown",
      "metadata": {
        "id": "view-in-github",
        "colab_type": "text"
      },
      "source": [
        "<a href=\"https://colab.research.google.com/github/m109103/bert/blob/main/MyBert_B2E5L200.ipynb\" target=\"_parent\"><img src=\"https://colab.research.google.com/assets/colab-badge.svg\" alt=\"Open In Colab\"/></a>"
      ]
    },
    {
      "cell_type": "code",
      "execution_count": 1,
      "metadata": {
        "colab": {
          "base_uri": "https://localhost:8080/"
        },
        "id": "g1lnuesyxCqE",
        "outputId": "5aeb0bf1-85d1-4694-d382-5bdbb3554eff"
      },
      "outputs": [
        {
          "output_type": "stream",
          "name": "stdout",
          "text": [
            "Collecting keras-bert\n",
            "  Downloading keras-bert-0.89.0.tar.gz (25 kB)\n",
            "Requirement already satisfied: numpy in /usr/local/lib/python3.7/dist-packages (from keras-bert) (1.21.5)\n",
            "Collecting keras-transformer==0.40.0\n",
            "  Downloading keras-transformer-0.40.0.tar.gz (9.7 kB)\n",
            "Collecting keras-pos-embd==0.13.0\n",
            "  Downloading keras-pos-embd-0.13.0.tar.gz (5.6 kB)\n",
            "Collecting keras-multi-head==0.29.0\n",
            "  Downloading keras-multi-head-0.29.0.tar.gz (13 kB)\n",
            "Collecting keras-layer-normalization==0.16.0\n",
            "  Downloading keras-layer-normalization-0.16.0.tar.gz (3.9 kB)\n",
            "Collecting keras-position-wise-feed-forward==0.8.0\n",
            "  Downloading keras-position-wise-feed-forward-0.8.0.tar.gz (4.1 kB)\n",
            "Collecting keras-embed-sim==0.10.0\n",
            "  Downloading keras-embed-sim-0.10.0.tar.gz (3.6 kB)\n",
            "Collecting keras-self-attention==0.51.0\n",
            "  Downloading keras-self-attention-0.51.0.tar.gz (11 kB)\n",
            "Building wheels for collected packages: keras-bert, keras-transformer, keras-embed-sim, keras-layer-normalization, keras-multi-head, keras-pos-embd, keras-position-wise-feed-forward, keras-self-attention\n",
            "  Building wheel for keras-bert (setup.py) ... \u001b[?25l\u001b[?25hdone\n",
            "  Created wheel for keras-bert: filename=keras_bert-0.89.0-py3-none-any.whl size=33517 sha256=c788c5fd028c1a6dcd906f274e590de99043ef4e8531e16a899a816fae0d8a6a\n",
            "  Stored in directory: /root/.cache/pip/wheels/a4/e8/45/842b3a39831261aef9154b907eacbc4ac99499a99ae829b06f\n",
            "  Building wheel for keras-transformer (setup.py) ... \u001b[?25l\u001b[?25hdone\n",
            "  Created wheel for keras-transformer: filename=keras_transformer-0.40.0-py3-none-any.whl size=12305 sha256=ea9b078b14174e3ab1edb04f0a1fe5341a060429517f8da7bbc6f4a3766fd414\n",
            "  Stored in directory: /root/.cache/pip/wheels/46/68/26/692ed21edd832833c3b0a0e21615bcacd99ca458b3f9ed571f\n",
            "  Building wheel for keras-embed-sim (setup.py) ... \u001b[?25l\u001b[?25hdone\n",
            "  Created wheel for keras-embed-sim: filename=keras_embed_sim-0.10.0-py3-none-any.whl size=3960 sha256=39f6028bbf537f81ee4c750cc5cbcd60ed5c6350067bcf821522f7b442cf0a61\n",
            "  Stored in directory: /root/.cache/pip/wheels/81/67/b5/d847588d075895281e1cf5590f819bd4cf076a554872268bd5\n",
            "  Building wheel for keras-layer-normalization (setup.py) ... \u001b[?25l\u001b[?25hdone\n",
            "  Created wheel for keras-layer-normalization: filename=keras_layer_normalization-0.16.0-py3-none-any.whl size=4668 sha256=3066eeddb12aedc5e4764800e751ae64cdbf2cde919f60140fdaddac0afea9f9\n",
            "  Stored in directory: /root/.cache/pip/wheels/85/5d/1c/2e619f594f69fbcf8bc20943b27d414871c409be053994813e\n",
            "  Building wheel for keras-multi-head (setup.py) ... \u001b[?25l\u001b[?25hdone\n",
            "  Created wheel for keras-multi-head: filename=keras_multi_head-0.29.0-py3-none-any.whl size=14993 sha256=4165e78e7b2f6b943623c010407315111a7d34c01644711b23f78c665a2d7053\n",
            "  Stored in directory: /root/.cache/pip/wheels/86/aa/3c/9d15d24005179dae08ff291ce99c754b296347817d076fd9fb\n",
            "  Building wheel for keras-pos-embd (setup.py) ... \u001b[?25l\u001b[?25hdone\n",
            "  Created wheel for keras-pos-embd: filename=keras_pos_embd-0.13.0-py3-none-any.whl size=6962 sha256=5e16ac52c213f690d2121f50ca236d138a6a9b055d6115639fc1f21ceb12b57c\n",
            "  Stored in directory: /root/.cache/pip/wheels/8d/c1/a0/dc44fcf68c857b7ff6be9a97e675e5adf51022eff1169b042f\n",
            "  Building wheel for keras-position-wise-feed-forward (setup.py) ... \u001b[?25l\u001b[?25hdone\n",
            "  Created wheel for keras-position-wise-feed-forward: filename=keras_position_wise_feed_forward-0.8.0-py3-none-any.whl size=4983 sha256=635e02bf3748f167951d2421c323703fe26e57427019ceb7c9b237fafb4ce2f4\n",
            "  Stored in directory: /root/.cache/pip/wheels/c2/75/6f/d42f6e051506f442daeba53ff1e2d21a5f20ef8c411610f2bb\n",
            "  Building wheel for keras-self-attention (setup.py) ... \u001b[?25l\u001b[?25hdone\n",
            "  Created wheel for keras-self-attention: filename=keras_self_attention-0.51.0-py3-none-any.whl size=18912 sha256=dbf23b20289421cb5a0008a02472704bacf1ae5784d1a1424583d58a907ae099\n",
            "  Stored in directory: /root/.cache/pip/wheels/95/b1/a8/5ee00cc137940b2f6fa198212e8f45d813d0e0d9c3a04035a3\n",
            "Successfully built keras-bert keras-transformer keras-embed-sim keras-layer-normalization keras-multi-head keras-pos-embd keras-position-wise-feed-forward keras-self-attention\n",
            "Installing collected packages: keras-self-attention, keras-position-wise-feed-forward, keras-pos-embd, keras-multi-head, keras-layer-normalization, keras-embed-sim, keras-transformer, keras-bert\n",
            "Successfully installed keras-bert-0.89.0 keras-embed-sim-0.10.0 keras-layer-normalization-0.16.0 keras-multi-head-0.29.0 keras-pos-embd-0.13.0 keras-position-wise-feed-forward-0.8.0 keras-self-attention-0.51.0 keras-transformer-0.40.0\n"
          ]
        }
      ],
      "source": [
        "!pip install keras-bert"
      ]
    },
    {
      "cell_type": "markdown",
      "metadata": {
        "id": "XD2ko66AW-dc"
      },
      "source": [
        "# 新增區段"
      ]
    },
    {
      "cell_type": "code",
      "execution_count": null,
      "metadata": {
        "colab": {
          "base_uri": "https://localhost:8080/"
        },
        "id": "iCTpza-0LRzB",
        "outputId": "bf76f8e4-4575-4162-b545-fd485ba92b52"
      },
      "outputs": [
        {
          "name": "stdout",
          "output_type": "stream",
          "text": [
            "Found GPU at: /device:GPU:0\n"
          ]
        }
      ],
      "source": [
        "%tensorflow_version 2.x\n",
        "import tensorflow as tf\n",
        "device_name = tf.test.gpu_device_name()\n",
        "if device_name != '/device:GPU:0':\n",
        "  raise SystemError('GPU device not found')\n",
        "print('Found GPU at: {}'.format(device_name))"
      ]
    },
    {
      "cell_type": "code",
      "execution_count": null,
      "metadata": {
        "colab": {
          "base_uri": "https://localhost:8080/"
        },
        "id": "3y0Vg7WwLkZN",
        "outputId": "d3c810d8-cff4-4003-e6b9-0c77ecc8d225"
      },
      "outputs": [
        {
          "name": "stdout",
          "output_type": "stream",
          "text": [
            "Time (s) to convolve 32x7x7x3 filter over random 100x100x100x3 images (batch x height x width x channel). Sum of ten runs.\n",
            "CPU (s):\n",
            "2.900214824000045\n",
            "GPU (s):\n",
            "0.041853807999927994\n",
            "GPU speedup over CPU: 69x\n"
          ]
        }
      ],
      "source": [
        "%tensorflow_version 2.x\n",
        "import tensorflow as tf\n",
        "import timeit\n",
        "\n",
        "device_name = tf.test.gpu_device_name()\n",
        "if device_name != '/device:GPU:0':\n",
        "  print(\n",
        "      '\\n\\nThis error most likely means that this notebook is not '\n",
        "      'configured to use a GPU.  Change this in Notebook Settings via the '\n",
        "      'command palette (cmd/ctrl-shift-P) or the Edit menu.\\n\\n')\n",
        "  raise SystemError('GPU device not found')\n",
        "\n",
        "def cpu():\n",
        "  with tf.device('/cpu:0'):\n",
        "    random_image_cpu = tf.random.normal((100, 100, 100, 3))\n",
        "    net_cpu = tf.keras.layers.Conv2D(32, 7)(random_image_cpu)\n",
        "    return tf.math.reduce_sum(net_cpu)\n",
        "\n",
        "def gpu():\n",
        "  with tf.device('/device:GPU:0'):\n",
        "    random_image_gpu = tf.random.normal((100, 100, 100, 3))\n",
        "    net_gpu = tf.keras.layers.Conv2D(32, 7)(random_image_gpu)\n",
        "    return tf.math.reduce_sum(net_gpu)\n",
        "  \n",
        "# We run each op once to warm up; see: https://stackoverflow.com/a/45067900\n",
        "cpu()\n",
        "gpu()\n",
        "\n",
        "# Run the op several times.\n",
        "print('Time (s) to convolve 32x7x7x3 filter over random 100x100x100x3 images '\n",
        "      '(batch x height x width x channel). Sum of ten runs.')\n",
        "print('CPU (s):')\n",
        "cpu_time = timeit.timeit('cpu()', number=10, setup=\"from __main__ import cpu\")\n",
        "print(cpu_time)\n",
        "print('GPU (s):')\n",
        "gpu_time = timeit.timeit('gpu()', number=10, setup=\"from __main__ import gpu\")\n",
        "print(gpu_time)\n",
        "print('GPU speedup over CPU: {}x'.format(int(cpu_time/gpu_time)))"
      ]
    },
    {
      "cell_type": "code",
      "execution_count": null,
      "metadata": {
        "id": "KMHVNi43y1wo"
      },
      "outputs": [],
      "source": [
        "!pip uninstall keras-nightly"
      ]
    },
    {
      "cell_type": "code",
      "execution_count": null,
      "metadata": {
        "id": "xG5Bulg4zAas"
      },
      "outputs": [],
      "source": [
        "!pip uninstall -y tensorflow"
      ]
    },
    {
      "cell_type": "code",
      "execution_count": null,
      "metadata": {
        "id": "mg4doAqjzNsx"
      },
      "outputs": [],
      "source": [
        "!pip install tensorflow-gpu==2.2.0"
      ]
    },
    {
      "cell_type": "code",
      "execution_count": null,
      "metadata": {
        "id": "2gyR3gzezglz"
      },
      "outputs": [],
      "source": [
        "!pip install keras==2.3.0"
      ]
    },
    {
      "cell_type": "code",
      "execution_count": null,
      "metadata": {
        "id": "OnVKby32zvXg"
      },
      "outputs": [],
      "source": [
        "!pip install keras-bert==0.82.0"
      ]
    },
    {
      "cell_type": "code",
      "execution_count": 2,
      "metadata": {
        "colab": {
          "base_uri": "https://localhost:8080/"
        },
        "id": "nWoWoFQhz335",
        "outputId": "8c824401-d3ad-4c95-dc7a-cf2a46638a9f"
      },
      "outputs": [
        {
          "output_type": "stream",
          "name": "stdout",
          "text": [
            "Mon Apr 18 07:48:42 2022       \n",
            "+-----------------------------------------------------------------------------+\n",
            "| NVIDIA-SMI 460.32.03    Driver Version: 460.32.03    CUDA Version: 11.2     |\n",
            "|-------------------------------+----------------------+----------------------+\n",
            "| GPU  Name        Persistence-M| Bus-Id        Disp.A | Volatile Uncorr. ECC |\n",
            "| Fan  Temp  Perf  Pwr:Usage/Cap|         Memory-Usage | GPU-Util  Compute M. |\n",
            "|                               |                      |               MIG M. |\n",
            "|===============================+======================+======================|\n",
            "|   0  Tesla T4            Off  | 00000000:00:04.0 Off |                    0 |\n",
            "| N/A   33C    P8     9W /  70W |      0MiB / 15109MiB |      0%      Default |\n",
            "|                               |                      |                  N/A |\n",
            "+-------------------------------+----------------------+----------------------+\n",
            "                                                                               \n",
            "+-----------------------------------------------------------------------------+\n",
            "| Processes:                                                                  |\n",
            "|  GPU   GI   CI        PID   Type   Process name                  GPU Memory |\n",
            "|        ID   ID                                                   Usage      |\n",
            "|=============================================================================|\n",
            "|  No running processes found                                                 |\n",
            "+-----------------------------------------------------------------------------+\n"
          ]
        }
      ],
      "source": [
        "!nvidia-smi"
      ]
    },
    {
      "cell_type": "code",
      "execution_count": 3,
      "metadata": {
        "colab": {
          "base_uri": "https://localhost:8080/"
        },
        "id": "mQChBWn7C2oP",
        "outputId": "6d5c5d95-1ad0-4c35-8616-a2e325311e4a"
      },
      "outputs": [
        {
          "output_type": "stream",
          "name": "stdout",
          "text": [
            "Mounted at /content/gdrive\n"
          ]
        }
      ],
      "source": [
        "from google.colab import drive  \n",
        "drive.mount('/content/gdrive')  "
      ]
    },
    {
      "cell_type": "code",
      "execution_count": null,
      "metadata": {
        "collapsed": true,
        "id": "vY2Xm8uG-sR7"
      },
      "outputs": [],
      "source": [
        "!sudo lsb_release -a"
      ]
    },
    {
      "cell_type": "code",
      "execution_count": 4,
      "metadata": {
        "id": "PZOcUU4i0IsC"
      },
      "outputs": [],
      "source": [
        "import sys\n",
        "import random\n",
        "import numpy as np\n",
        "\n",
        "from tensorflow.keras.layers import *\n",
        "from tensorflow.keras.losses import BinaryCrossentropy\n",
        "from tensorflow.keras.models import Model\n",
        "from tensorflow.keras.models import load_model\n",
        "from tensorflow.keras.optimizers import Adam\n",
        "\n",
        "from keras_bert import (\n",
        "    load_vocabulary,\n",
        "    load_trained_model_from_checkpoint,\n",
        "    Tokenizer,\n",
        "    get_checkpoint_paths,\n",
        ")\n",
        "from keras_bert.datasets import get_pretrained, PretrainedList"
      ]
    },
    {
      "cell_type": "code",
      "execution_count": null,
      "metadata": {
        "id": "9X5dvxWNQ2ML"
      },
      "outputs": [],
      "source": [
        ""
      ]
    },
    {
      "cell_type": "code",
      "execution_count": 5,
      "metadata": {
        "id": "ujxw-JrC0OHS"
      },
      "outputs": [],
      "source": [
        "SPLIT_PORTION = 0.8  # 指定訓練資料與測試資料的比例\n",
        "BATCH_SIZE = 5  # batch size建議不要設得太大，不然很有可能out of memory\n",
        "EPOCHS = 10 # epoch 5次其實就很夠了，當然你可以嘗試再大一點，只是訓練要更久"
      ]
    },
    {
      "cell_type": "code",
      "execution_count": 6,
      "metadata": {
        "colab": {
          "base_uri": "https://localhost:8080/"
        },
        "id": "RW01f8ZM0ZyT",
        "outputId": "d343edf2-cb1a-4344-c958-a3aeb5ed7b21"
      },
      "outputs": [
        {
          "output_type": "stream",
          "name": "stdout",
          "text": [
            "Downloading data from https://storage.googleapis.com/bert_models/2018_11_03/chinese_L-12_H-768_A-12.zip\n",
            "381894656/381892918 [==============================] - 3s 0us/step\n",
            "381902848/381892918 [==============================] - 3s 0us/step\n",
            "Model: \"model_1\"\n",
            "________________________________________________________________________________________________________________________________________________________________________________________________________\n",
            " Layer (type)                                                     Output Shape                                Param #                 Connected to                                                      \n",
            "========================================================================================================================================================================================================\n",
            " Input-Token (InputLayer)                                         [(None, None)]                              0                       []                                                                \n",
            "                                                                                                                                                                                                        \n",
            " Input-Segment (InputLayer)                                       [(None, None)]                              0                       []                                                                \n",
            "                                                                                                                                                                                                        \n",
            " Embedding-Token (TokenEmbedding)                                 [(None, None, 768),                         16226304                ['Input-Token[0][0]']                                             \n",
            "                                                                   (21128, 768)]                                                                                                                        \n",
            "                                                                                                                                                                                                        \n",
            " Embedding-Segment (Embedding)                                    (None, None, 768)                           1536                    ['Input-Segment[0][0]']                                           \n",
            "                                                                                                                                                                                                        \n",
            " Embedding-Token-Segment (Add)                                    (None, None, 768)                           0                       ['Embedding-Token[0][0]',                                         \n",
            "                                                                                                                                       'Embedding-Segment[0][0]']                                       \n",
            "                                                                                                                                                                                                        \n",
            " Embedding-Position (PositionEmbedding)                           (None, None, 768)                           393216                  ['Embedding-Token-Segment[0][0]']                                 \n",
            "                                                                                                                                                                                                        \n",
            " Embedding-Dropout (Dropout)                                      (None, None, 768)                           0                       ['Embedding-Position[0][0]']                                      \n",
            "                                                                                                                                                                                                        \n",
            " Embedding-Norm (LayerNormalization)                              (None, None, 768)                           1536                    ['Embedding-Dropout[0][0]']                                       \n",
            "                                                                                                                                                                                                        \n",
            " Encoder-1-MultiHeadSelfAttention (MultiHeadAttention)            (None, None, 768)                           2362368                 ['Embedding-Norm[0][0]']                                          \n",
            "                                                                                                                                                                                                        \n",
            " Encoder-1-MultiHeadSelfAttention-Dropout (Dropout)               (None, None, 768)                           0                       ['Encoder-1-MultiHeadSelfAttention[0][0]']                        \n",
            "                                                                                                                                                                                                        \n",
            " Encoder-1-MultiHeadSelfAttention-Add (Add)                       (None, None, 768)                           0                       ['Embedding-Norm[0][0]',                                          \n",
            "                                                                                                                                       'Encoder-1-MultiHeadSelfAttention-Dropout[0][0]']                \n",
            "                                                                                                                                                                                                        \n",
            " Encoder-1-MultiHeadSelfAttention-Norm (LayerNormalization)       (None, None, 768)                           1536                    ['Encoder-1-MultiHeadSelfAttention-Add[0][0]']                    \n",
            "                                                                                                                                                                                                        \n",
            " Encoder-1-FeedForward (FeedForward)                              (None, None, 768)                           4722432                 ['Encoder-1-MultiHeadSelfAttention-Norm[0][0]']                   \n",
            "                                                                                                                                                                                                        \n",
            " Encoder-1-FeedForward-Dropout (Dropout)                          (None, None, 768)                           0                       ['Encoder-1-FeedForward[0][0]']                                   \n",
            "                                                                                                                                                                                                        \n",
            " Encoder-1-FeedForward-Add (Add)                                  (None, None, 768)                           0                       ['Encoder-1-MultiHeadSelfAttention-Norm[0][0]',                   \n",
            "                                                                                                                                       'Encoder-1-FeedForward-Dropout[0][0]']                           \n",
            "                                                                                                                                                                                                        \n",
            " Encoder-1-FeedForward-Norm (LayerNormalization)                  (None, None, 768)                           1536                    ['Encoder-1-FeedForward-Add[0][0]']                               \n",
            "                                                                                                                                                                                                        \n",
            " Encoder-2-MultiHeadSelfAttention (MultiHeadAttention)            (None, None, 768)                           2362368                 ['Encoder-1-FeedForward-Norm[0][0]']                              \n",
            "                                                                                                                                                                                                        \n",
            " Encoder-2-MultiHeadSelfAttention-Dropout (Dropout)               (None, None, 768)                           0                       ['Encoder-2-MultiHeadSelfAttention[0][0]']                        \n",
            "                                                                                                                                                                                                        \n",
            " Encoder-2-MultiHeadSelfAttention-Add (Add)                       (None, None, 768)                           0                       ['Encoder-1-FeedForward-Norm[0][0]',                              \n",
            "                                                                                                                                       'Encoder-2-MultiHeadSelfAttention-Dropout[0][0]']                \n",
            "                                                                                                                                                                                                        \n",
            " Encoder-2-MultiHeadSelfAttention-Norm (LayerNormalization)       (None, None, 768)                           1536                    ['Encoder-2-MultiHeadSelfAttention-Add[0][0]']                    \n",
            "                                                                                                                                                                                                        \n",
            " Encoder-2-FeedForward (FeedForward)                              (None, None, 768)                           4722432                 ['Encoder-2-MultiHeadSelfAttention-Norm[0][0]']                   \n",
            "                                                                                                                                                                                                        \n",
            " Encoder-2-FeedForward-Dropout (Dropout)                          (None, None, 768)                           0                       ['Encoder-2-FeedForward[0][0]']                                   \n",
            "                                                                                                                                                                                                        \n",
            " Encoder-2-FeedForward-Add (Add)                                  (None, None, 768)                           0                       ['Encoder-2-MultiHeadSelfAttention-Norm[0][0]',                   \n",
            "                                                                                                                                       'Encoder-2-FeedForward-Dropout[0][0]']                           \n",
            "                                                                                                                                                                                                        \n",
            " Encoder-2-FeedForward-Norm (LayerNormalization)                  (None, None, 768)                           1536                    ['Encoder-2-FeedForward-Add[0][0]']                               \n",
            "                                                                                                                                                                                                        \n",
            " Encoder-3-MultiHeadSelfAttention (MultiHeadAttention)            (None, None, 768)                           2362368                 ['Encoder-2-FeedForward-Norm[0][0]']                              \n",
            "                                                                                                                                                                                                        \n",
            " Encoder-3-MultiHeadSelfAttention-Dropout (Dropout)               (None, None, 768)                           0                       ['Encoder-3-MultiHeadSelfAttention[0][0]']                        \n",
            "                                                                                                                                                                                                        \n",
            " Encoder-3-MultiHeadSelfAttention-Add (Add)                       (None, None, 768)                           0                       ['Encoder-2-FeedForward-Norm[0][0]',                              \n",
            "                                                                                                                                       'Encoder-3-MultiHeadSelfAttention-Dropout[0][0]']                \n",
            "                                                                                                                                                                                                        \n",
            " Encoder-3-MultiHeadSelfAttention-Norm (LayerNormalization)       (None, None, 768)                           1536                    ['Encoder-3-MultiHeadSelfAttention-Add[0][0]']                    \n",
            "                                                                                                                                                                                                        \n",
            " Encoder-3-FeedForward (FeedForward)                              (None, None, 768)                           4722432                 ['Encoder-3-MultiHeadSelfAttention-Norm[0][0]']                   \n",
            "                                                                                                                                                                                                        \n",
            " Encoder-3-FeedForward-Dropout (Dropout)                          (None, None, 768)                           0                       ['Encoder-3-FeedForward[0][0]']                                   \n",
            "                                                                                                                                                                                                        \n",
            " Encoder-3-FeedForward-Add (Add)                                  (None, None, 768)                           0                       ['Encoder-3-MultiHeadSelfAttention-Norm[0][0]',                   \n",
            "                                                                                                                                       'Encoder-3-FeedForward-Dropout[0][0]']                           \n",
            "                                                                                                                                                                                                        \n",
            " Encoder-3-FeedForward-Norm (LayerNormalization)                  (None, None, 768)                           1536                    ['Encoder-3-FeedForward-Add[0][0]']                               \n",
            "                                                                                                                                                                                                        \n",
            " Encoder-4-MultiHeadSelfAttention (MultiHeadAttention)            (None, None, 768)                           2362368                 ['Encoder-3-FeedForward-Norm[0][0]']                              \n",
            "                                                                                                                                                                                                        \n",
            " Encoder-4-MultiHeadSelfAttention-Dropout (Dropout)               (None, None, 768)                           0                       ['Encoder-4-MultiHeadSelfAttention[0][0]']                        \n",
            "                                                                                                                                                                                                        \n",
            " Encoder-4-MultiHeadSelfAttention-Add (Add)                       (None, None, 768)                           0                       ['Encoder-3-FeedForward-Norm[0][0]',                              \n",
            "                                                                                                                                       'Encoder-4-MultiHeadSelfAttention-Dropout[0][0]']                \n",
            "                                                                                                                                                                                                        \n",
            " Encoder-4-MultiHeadSelfAttention-Norm (LayerNormalization)       (None, None, 768)                           1536                    ['Encoder-4-MultiHeadSelfAttention-Add[0][0]']                    \n",
            "                                                                                                                                                                                                        \n",
            " Encoder-4-FeedForward (FeedForward)                              (None, None, 768)                           4722432                 ['Encoder-4-MultiHeadSelfAttention-Norm[0][0]']                   \n",
            "                                                                                                                                                                                                        \n",
            " Encoder-4-FeedForward-Dropout (Dropout)                          (None, None, 768)                           0                       ['Encoder-4-FeedForward[0][0]']                                   \n",
            "                                                                                                                                                                                                        \n",
            " Encoder-4-FeedForward-Add (Add)                                  (None, None, 768)                           0                       ['Encoder-4-MultiHeadSelfAttention-Norm[0][0]',                   \n",
            "                                                                                                                                       'Encoder-4-FeedForward-Dropout[0][0]']                           \n",
            "                                                                                                                                                                                                        \n",
            " Encoder-4-FeedForward-Norm (LayerNormalization)                  (None, None, 768)                           1536                    ['Encoder-4-FeedForward-Add[0][0]']                               \n",
            "                                                                                                                                                                                                        \n",
            " Encoder-5-MultiHeadSelfAttention (MultiHeadAttention)            (None, None, 768)                           2362368                 ['Encoder-4-FeedForward-Norm[0][0]']                              \n",
            "                                                                                                                                                                                                        \n",
            " Encoder-5-MultiHeadSelfAttention-Dropout (Dropout)               (None, None, 768)                           0                       ['Encoder-5-MultiHeadSelfAttention[0][0]']                        \n",
            "                                                                                                                                                                                                        \n",
            " Encoder-5-MultiHeadSelfAttention-Add (Add)                       (None, None, 768)                           0                       ['Encoder-4-FeedForward-Norm[0][0]',                              \n",
            "                                                                                                                                       'Encoder-5-MultiHeadSelfAttention-Dropout[0][0]']                \n",
            "                                                                                                                                                                                                        \n",
            " Encoder-5-MultiHeadSelfAttention-Norm (LayerNormalization)       (None, None, 768)                           1536                    ['Encoder-5-MultiHeadSelfAttention-Add[0][0]']                    \n",
            "                                                                                                                                                                                                        \n",
            " Encoder-5-FeedForward (FeedForward)                              (None, None, 768)                           4722432                 ['Encoder-5-MultiHeadSelfAttention-Norm[0][0]']                   \n",
            "                                                                                                                                                                                                        \n",
            " Encoder-5-FeedForward-Dropout (Dropout)                          (None, None, 768)                           0                       ['Encoder-5-FeedForward[0][0]']                                   \n",
            "                                                                                                                                                                                                        \n",
            " Encoder-5-FeedForward-Add (Add)                                  (None, None, 768)                           0                       ['Encoder-5-MultiHeadSelfAttention-Norm[0][0]',                   \n",
            "                                                                                                                                       'Encoder-5-FeedForward-Dropout[0][0]']                           \n",
            "                                                                                                                                                                                                        \n",
            " Encoder-5-FeedForward-Norm (LayerNormalization)                  (None, None, 768)                           1536                    ['Encoder-5-FeedForward-Add[0][0]']                               \n",
            "                                                                                                                                                                                                        \n",
            " Encoder-6-MultiHeadSelfAttention (MultiHeadAttention)            (None, None, 768)                           2362368                 ['Encoder-5-FeedForward-Norm[0][0]']                              \n",
            "                                                                                                                                                                                                        \n",
            " Encoder-6-MultiHeadSelfAttention-Dropout (Dropout)               (None, None, 768)                           0                       ['Encoder-6-MultiHeadSelfAttention[0][0]']                        \n",
            "                                                                                                                                                                                                        \n",
            " Encoder-6-MultiHeadSelfAttention-Add (Add)                       (None, None, 768)                           0                       ['Encoder-5-FeedForward-Norm[0][0]',                              \n",
            "                                                                                                                                       'Encoder-6-MultiHeadSelfAttention-Dropout[0][0]']                \n",
            "                                                                                                                                                                                                        \n",
            " Encoder-6-MultiHeadSelfAttention-Norm (LayerNormalization)       (None, None, 768)                           1536                    ['Encoder-6-MultiHeadSelfAttention-Add[0][0]']                    \n",
            "                                                                                                                                                                                                        \n",
            " Encoder-6-FeedForward (FeedForward)                              (None, None, 768)                           4722432                 ['Encoder-6-MultiHeadSelfAttention-Norm[0][0]']                   \n",
            "                                                                                                                                                                                                        \n",
            " Encoder-6-FeedForward-Dropout (Dropout)                          (None, None, 768)                           0                       ['Encoder-6-FeedForward[0][0]']                                   \n",
            "                                                                                                                                                                                                        \n",
            " Encoder-6-FeedForward-Add (Add)                                  (None, None, 768)                           0                       ['Encoder-6-MultiHeadSelfAttention-Norm[0][0]',                   \n",
            "                                                                                                                                       'Encoder-6-FeedForward-Dropout[0][0]']                           \n",
            "                                                                                                                                                                                                        \n",
            " Encoder-6-FeedForward-Norm (LayerNormalization)                  (None, None, 768)                           1536                    ['Encoder-6-FeedForward-Add[0][0]']                               \n",
            "                                                                                                                                                                                                        \n",
            " Encoder-7-MultiHeadSelfAttention (MultiHeadAttention)            (None, None, 768)                           2362368                 ['Encoder-6-FeedForward-Norm[0][0]']                              \n",
            "                                                                                                                                                                                                        \n",
            " Encoder-7-MultiHeadSelfAttention-Dropout (Dropout)               (None, None, 768)                           0                       ['Encoder-7-MultiHeadSelfAttention[0][0]']                        \n",
            "                                                                                                                                                                                                        \n",
            " Encoder-7-MultiHeadSelfAttention-Add (Add)                       (None, None, 768)                           0                       ['Encoder-6-FeedForward-Norm[0][0]',                              \n",
            "                                                                                                                                       'Encoder-7-MultiHeadSelfAttention-Dropout[0][0]']                \n",
            "                                                                                                                                                                                                        \n",
            " Encoder-7-MultiHeadSelfAttention-Norm (LayerNormalization)       (None, None, 768)                           1536                    ['Encoder-7-MultiHeadSelfAttention-Add[0][0]']                    \n",
            "                                                                                                                                                                                                        \n",
            " Encoder-7-FeedForward (FeedForward)                              (None, None, 768)                           4722432                 ['Encoder-7-MultiHeadSelfAttention-Norm[0][0]']                   \n",
            "                                                                                                                                                                                                        \n",
            " Encoder-7-FeedForward-Dropout (Dropout)                          (None, None, 768)                           0                       ['Encoder-7-FeedForward[0][0]']                                   \n",
            "                                                                                                                                                                                                        \n",
            " Encoder-7-FeedForward-Add (Add)                                  (None, None, 768)                           0                       ['Encoder-7-MultiHeadSelfAttention-Norm[0][0]',                   \n",
            "                                                                                                                                       'Encoder-7-FeedForward-Dropout[0][0]']                           \n",
            "                                                                                                                                                                                                        \n",
            " Encoder-7-FeedForward-Norm (LayerNormalization)                  (None, None, 768)                           1536                    ['Encoder-7-FeedForward-Add[0][0]']                               \n",
            "                                                                                                                                                                                                        \n",
            " Encoder-8-MultiHeadSelfAttention (MultiHeadAttention)            (None, None, 768)                           2362368                 ['Encoder-7-FeedForward-Norm[0][0]']                              \n",
            "                                                                                                                                                                                                        \n",
            " Encoder-8-MultiHeadSelfAttention-Dropout (Dropout)               (None, None, 768)                           0                       ['Encoder-8-MultiHeadSelfAttention[0][0]']                        \n",
            "                                                                                                                                                                                                        \n",
            " Encoder-8-MultiHeadSelfAttention-Add (Add)                       (None, None, 768)                           0                       ['Encoder-7-FeedForward-Norm[0][0]',                              \n",
            "                                                                                                                                       'Encoder-8-MultiHeadSelfAttention-Dropout[0][0]']                \n",
            "                                                                                                                                                                                                        \n",
            " Encoder-8-MultiHeadSelfAttention-Norm (LayerNormalization)       (None, None, 768)                           1536                    ['Encoder-8-MultiHeadSelfAttention-Add[0][0]']                    \n",
            "                                                                                                                                                                                                        \n",
            " Encoder-8-FeedForward (FeedForward)                              (None, None, 768)                           4722432                 ['Encoder-8-MultiHeadSelfAttention-Norm[0][0]']                   \n",
            "                                                                                                                                                                                                        \n",
            " Encoder-8-FeedForward-Dropout (Dropout)                          (None, None, 768)                           0                       ['Encoder-8-FeedForward[0][0]']                                   \n",
            "                                                                                                                                                                                                        \n",
            " Encoder-8-FeedForward-Add (Add)                                  (None, None, 768)                           0                       ['Encoder-8-MultiHeadSelfAttention-Norm[0][0]',                   \n",
            "                                                                                                                                       'Encoder-8-FeedForward-Dropout[0][0]']                           \n",
            "                                                                                                                                                                                                        \n",
            " Encoder-8-FeedForward-Norm (LayerNormalization)                  (None, None, 768)                           1536                    ['Encoder-8-FeedForward-Add[0][0]']                               \n",
            "                                                                                                                                                                                                        \n",
            " Encoder-9-MultiHeadSelfAttention (MultiHeadAttention)            (None, None, 768)                           2362368                 ['Encoder-8-FeedForward-Norm[0][0]']                              \n",
            "                                                                                                                                                                                                        \n",
            " Encoder-9-MultiHeadSelfAttention-Dropout (Dropout)               (None, None, 768)                           0                       ['Encoder-9-MultiHeadSelfAttention[0][0]']                        \n",
            "                                                                                                                                                                                                        \n",
            " Encoder-9-MultiHeadSelfAttention-Add (Add)                       (None, None, 768)                           0                       ['Encoder-8-FeedForward-Norm[0][0]',                              \n",
            "                                                                                                                                       'Encoder-9-MultiHeadSelfAttention-Dropout[0][0]']                \n",
            "                                                                                                                                                                                                        \n",
            " Encoder-9-MultiHeadSelfAttention-Norm (LayerNormalization)       (None, None, 768)                           1536                    ['Encoder-9-MultiHeadSelfAttention-Add[0][0]']                    \n",
            "                                                                                                                                                                                                        \n",
            " Encoder-9-FeedForward (FeedForward)                              (None, None, 768)                           4722432                 ['Encoder-9-MultiHeadSelfAttention-Norm[0][0]']                   \n",
            "                                                                                                                                                                                                        \n",
            " Encoder-9-FeedForward-Dropout (Dropout)                          (None, None, 768)                           0                       ['Encoder-9-FeedForward[0][0]']                                   \n",
            "                                                                                                                                                                                                        \n",
            " Encoder-9-FeedForward-Add (Add)                                  (None, None, 768)                           0                       ['Encoder-9-MultiHeadSelfAttention-Norm[0][0]',                   \n",
            "                                                                                                                                       'Encoder-9-FeedForward-Dropout[0][0]']                           \n",
            "                                                                                                                                                                                                        \n",
            " Encoder-9-FeedForward-Norm (LayerNormalization)                  (None, None, 768)                           1536                    ['Encoder-9-FeedForward-Add[0][0]']                               \n",
            "                                                                                                                                                                                                        \n",
            " Encoder-10-MultiHeadSelfAttention (MultiHeadAttention)           (None, None, 768)                           2362368                 ['Encoder-9-FeedForward-Norm[0][0]']                              \n",
            "                                                                                                                                                                                                        \n",
            " Encoder-10-MultiHeadSelfAttention-Dropout (Dropout)              (None, None, 768)                           0                       ['Encoder-10-MultiHeadSelfAttention[0][0]']                       \n",
            "                                                                                                                                                                                                        \n",
            " Encoder-10-MultiHeadSelfAttention-Add (Add)                      (None, None, 768)                           0                       ['Encoder-9-FeedForward-Norm[0][0]',                              \n",
            "                                                                                                                                       'Encoder-10-MultiHeadSelfAttention-Dropout[0][0]']               \n",
            "                                                                                                                                                                                                        \n",
            " Encoder-10-MultiHeadSelfAttention-Norm (LayerNormalization)      (None, None, 768)                           1536                    ['Encoder-10-MultiHeadSelfAttention-Add[0][0]']                   \n",
            "                                                                                                                                                                                                        \n",
            " Encoder-10-FeedForward (FeedForward)                             (None, None, 768)                           4722432                 ['Encoder-10-MultiHeadSelfAttention-Norm[0][0]']                  \n",
            "                                                                                                                                                                                                        \n",
            " Encoder-10-FeedForward-Dropout (Dropout)                         (None, None, 768)                           0                       ['Encoder-10-FeedForward[0][0]']                                  \n",
            "                                                                                                                                                                                                        \n",
            " Encoder-10-FeedForward-Add (Add)                                 (None, None, 768)                           0                       ['Encoder-10-MultiHeadSelfAttention-Norm[0][0]',                  \n",
            "                                                                                                                                       'Encoder-10-FeedForward-Dropout[0][0]']                          \n",
            "                                                                                                                                                                                                        \n",
            " Encoder-10-FeedForward-Norm (LayerNormalization)                 (None, None, 768)                           1536                    ['Encoder-10-FeedForward-Add[0][0]']                              \n",
            "                                                                                                                                                                                                        \n",
            " Encoder-11-MultiHeadSelfAttention (MultiHeadAttention)           (None, None, 768)                           2362368                 ['Encoder-10-FeedForward-Norm[0][0]']                             \n",
            "                                                                                                                                                                                                        \n",
            " Encoder-11-MultiHeadSelfAttention-Dropout (Dropout)              (None, None, 768)                           0                       ['Encoder-11-MultiHeadSelfAttention[0][0]']                       \n",
            "                                                                                                                                                                                                        \n",
            " Encoder-11-MultiHeadSelfAttention-Add (Add)                      (None, None, 768)                           0                       ['Encoder-10-FeedForward-Norm[0][0]',                             \n",
            "                                                                                                                                       'Encoder-11-MultiHeadSelfAttention-Dropout[0][0]']               \n",
            "                                                                                                                                                                                                        \n",
            " Encoder-11-MultiHeadSelfAttention-Norm (LayerNormalization)      (None, None, 768)                           1536                    ['Encoder-11-MultiHeadSelfAttention-Add[0][0]']                   \n",
            "                                                                                                                                                                                                        \n",
            " Encoder-11-FeedForward (FeedForward)                             (None, None, 768)                           4722432                 ['Encoder-11-MultiHeadSelfAttention-Norm[0][0]']                  \n",
            "                                                                                                                                                                                                        \n",
            " Encoder-11-FeedForward-Dropout (Dropout)                         (None, None, 768)                           0                       ['Encoder-11-FeedForward[0][0]']                                  \n",
            "                                                                                                                                                                                                        \n",
            " Encoder-11-FeedForward-Add (Add)                                 (None, None, 768)                           0                       ['Encoder-11-MultiHeadSelfAttention-Norm[0][0]',                  \n",
            "                                                                                                                                       'Encoder-11-FeedForward-Dropout[0][0]']                          \n",
            "                                                                                                                                                                                                        \n",
            " Encoder-11-FeedForward-Norm (LayerNormalization)                 (None, None, 768)                           1536                    ['Encoder-11-FeedForward-Add[0][0]']                              \n",
            "                                                                                                                                                                                                        \n",
            " Encoder-12-MultiHeadSelfAttention (MultiHeadAttention)           (None, None, 768)                           2362368                 ['Encoder-11-FeedForward-Norm[0][0]']                             \n",
            "                                                                                                                                                                                                        \n",
            " Encoder-12-MultiHeadSelfAttention-Dropout (Dropout)              (None, None, 768)                           0                       ['Encoder-12-MultiHeadSelfAttention[0][0]']                       \n",
            "                                                                                                                                                                                                        \n",
            " Encoder-12-MultiHeadSelfAttention-Add (Add)                      (None, None, 768)                           0                       ['Encoder-11-FeedForward-Norm[0][0]',                             \n",
            "                                                                                                                                       'Encoder-12-MultiHeadSelfAttention-Dropout[0][0]']               \n",
            "                                                                                                                                                                                                        \n",
            " Encoder-12-MultiHeadSelfAttention-Norm (LayerNormalization)      (None, None, 768)                           1536                    ['Encoder-12-MultiHeadSelfAttention-Add[0][0]']                   \n",
            "                                                                                                                                                                                                        \n",
            " Encoder-12-FeedForward (FeedForward)                             (None, None, 768)                           4722432                 ['Encoder-12-MultiHeadSelfAttention-Norm[0][0]']                  \n",
            "                                                                                                                                                                                                        \n",
            " Encoder-12-FeedForward-Dropout (Dropout)                         (None, None, 768)                           0                       ['Encoder-12-FeedForward[0][0]']                                  \n",
            "                                                                                                                                                                                                        \n",
            " Encoder-12-FeedForward-Add (Add)                                 (None, None, 768)                           0                       ['Encoder-12-MultiHeadSelfAttention-Norm[0][0]',                  \n",
            "                                                                                                                                       'Encoder-12-FeedForward-Dropout[0][0]']                          \n",
            "                                                                                                                                                                                                        \n",
            " Encoder-12-FeedForward-Norm (LayerNormalization)                 (None, None, 768)                           1536                    ['Encoder-12-FeedForward-Add[0][0]']                              \n",
            "                                                                                                                                                                                                        \n",
            "========================================================================================================================================================================================================\n",
            "Total params: 101,677,056\n",
            "Trainable params: 0\n",
            "Non-trainable params: 101,677,056\n",
            "________________________________________________________________________________________________________________________________________________________________________________________________________\n"
          ]
        }
      ],
      "source": [
        "model_path = get_pretrained(PretrainedList.chinese_base)\n",
        "paths = get_checkpoint_paths(model_path)\n",
        "bert_model = load_trained_model_from_checkpoint(\n",
        "    paths.config, paths.checkpoint, training=False, seq_len=None\n",
        ")\n",
        "bert_model.summary(line_length=200)"
      ]
    },
    {
      "cell_type": "code",
      "execution_count": 7,
      "metadata": {
        "id": "uQY0yd0PPsVy"
      },
      "outputs": [],
      "source": [
        "token_dict = load_vocabulary(paths.vocab)\n",
        "len(token_dict)\n",
        "tokenizer = Tokenizer(token_dict)"
      ]
    },
    {
      "cell_type": "code",
      "execution_count": 8,
      "metadata": {
        "colab": {
          "base_uri": "https://localhost:8080/"
        },
        "id": "EMQNIppDX6lt",
        "outputId": "7a668315-22bd-48a6-dd58-b905594c1148"
      },
      "outputs": [
        {
          "output_type": "stream",
          "name": "stdout",
          "text": [
            "/content/gdrive/My Drive/Colab Notebooks\n"
          ]
        }
      ],
      "source": [
        "%cd /content/gdrive/\"My Drive\"/\"Colab Notebooks\""
      ]
    },
    {
      "cell_type": "code",
      "execution_count": null,
      "metadata": {
        "colab": {
          "base_uri": "https://localhost:8080/",
          "height": 41,
          "resources": {
            "http://localhost:8080/nbextensions/google.colab/files.js": {
              "data": "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",
              "headers": [
                [
                  "content-type",
                  "application/javascript"
                ]
              ],
              "ok": true,
              "status": 200,
              "status_text": ""
            }
          }
        },
        "id": "uUQ1f7THYW5w",
        "outputId": "1fdf3983-b2e0-41c3-a850-ff64cd4c8b51"
      },
      "outputs": [
        {
          "data": {
            "text/html": [
              "\n",
              "     <input type=\"file\" id=\"files-1a554ab0-ab97-473f-8b54-f60e833a64b1\" name=\"files[]\" multiple disabled\n",
              "        style=\"border:none\" />\n",
              "     <output id=\"result-1a554ab0-ab97-473f-8b54-f60e833a64b1\">\n",
              "      Upload widget is only available when the cell has been executed in the\n",
              "      current browser session. Please rerun this cell to enable.\n",
              "      </output>\n",
              "      <script src=\"/nbextensions/google.colab/files.js\"></script> "
            ],
            "text/plain": [
              "<IPython.core.display.HTML object>"
            ]
          },
          "metadata": {},
          "output_type": "display_data"
        }
      ],
      "source": [
        "from google.colab import files  \n",
        "uploaded = files.upload() "
      ]
    },
    {
      "cell_type": "code",
      "execution_count": null,
      "metadata": {
        "id": "a2zR66hcV4iE"
      },
      "outputs": [],
      "source": [
        "import json\n",
        "with open('./data/bert_fs.json', 'r', encoding='utf-8') as f1:\n",
        "    fs = json.load(f1)\n",
        "with open('./data/bert_dic.json', 'r', encoding='utf-8') as f2:\n",
        "    new_dic = json.load(f2)\n",
        "with open('./data/bert_texts.json', 'r', encoding='utf-8') as f3:\n",
        "    text = json.load(f3)\n",
        "with open('./data/bert_tags.json', 'r', encoding='utf-8') as f4:\n",
        "    tag = json.load(f4)"
      ]
    },
    {
      "cell_type": "code",
      "execution_count": null,
      "metadata": {
        "id": "F9cvfL4xZCgJ"
      },
      "outputs": [],
      "source": [
        "x = text[:]\n",
        "y = tag[:]\n",
        "# 把文章資料相對標籤資料的順序打亂\n",
        "def call_random(text_list,label_list):\n",
        "    import numpy as np\n",
        "    state = np.random.get_state()\n",
        "    np.random.shuffle(text_list)\n",
        "    np.random.set_state(state)\n",
        "    np.random.shuffle(label_list)\n",
        "    return text_list,label_list\n",
        "#random 後的資料\n",
        "x_text,y_tag = call_random(x,y)"
      ]
    },
    {
      "cell_type": "code",
      "execution_count": null,
      "metadata": {
        "id": "bdQ4PtX6ZQXu"
      },
      "outputs": [],
      "source": [
        "import pickle    \n",
        "with open('./data/r_text.pickle', 'wb') as f:\n",
        "    pickle.dump(x_text, f)\n",
        "with open('./data/r_tag.pickle', 'wb') as f:\n",
        "    pickle.dump(y_tag, f)"
      ]
    },
    {
      "cell_type": "markdown",
      "metadata": {
        "id": "Aw9v_j6FdNBP"
      },
      "source": [
        "載入打散後資料"
      ]
    },
    {
      "cell_type": "code",
      "execution_count": 9,
      "metadata": {
        "id": "lI3L2ujxdHmY"
      },
      "outputs": [],
      "source": [
        "import pickle\n",
        "with open('./data/r_text.pickle', 'rb') as f:\n",
        "    x_text = pickle.load(f)\n",
        "with open('./data/r_tag.pickle', 'rb') as f:\n",
        "    y_tag = pickle.load(f)"
      ]
    },
    {
      "cell_type": "code",
      "execution_count": 10,
      "metadata": {
        "id": "6FKU3vBaZlrC"
      },
      "outputs": [],
      "source": [
        "text_data = x_text[:]\n",
        "tag_data = y_tag[:]\n",
        "\n",
        "# 按比例切分訓練資料與測試資料\n",
        "train_data = text_data[:int(len(text_data) * SPLIT_PORTION)]\n",
        "test_data = text_data[int(len(text_data) * SPLIT_PORTION):] \n",
        "tag_train = tag_data[:int(len(tag_data) * SPLIT_PORTION)]\n",
        "tag_test = tag_data[int(len(tag_data) * SPLIT_PORTION):]\n",
        "\n",
        "X_train = []\n",
        "y_train = []\n",
        "\n",
        "X_test = []\n",
        "y_test = []\n",
        "\n",
        "indices = []\n",
        "for sentence in train_data:\n",
        "    ids, segments = tokenizer.encode(sentence, max_len=512) # Tokenizer進行分詞\n",
        "    indices.append(ids)\n",
        "indices = np.array(indices)\n",
        "X_train = [indices, np.zeros_like(indices)]\n",
        "y_train = np.array(tag_train)\n",
        "\n",
        "indices = []\n",
        "for sentence in test_data:\n",
        "    ids, segments = tokenizer.encode(sentence, max_len=512) # Tokenizer進行分詞\n",
        "    indices.append(ids)\n",
        "indices = np.array(indices)\n",
        "X_test = [indices, np.zeros_like(indices)]\n",
        "y_test = np.array(tag_test)"
      ]
    },
    {
      "cell_type": "code",
      "execution_count": 11,
      "metadata": {
        "colab": {
          "base_uri": "https://localhost:8080/"
        },
        "id": "9pPbKA0HaEEh",
        "outputId": "68315760-9783-4184-81b0-f1aa0e92746a"
      },
      "outputs": [
        {
          "output_type": "stream",
          "name": "stdout",
          "text": [
            "Model: \"model_2\"\n",
            "__________________________________________________________________________________________________\n",
            " Layer (type)                   Output Shape         Param #     Connected to                     \n",
            "==================================================================================================\n",
            " input_1 (InputLayer)           [(None, None)]       0           []                               \n",
            "                                                                                                  \n",
            " input_2 (InputLayer)           [(None, None)]       0           []                               \n",
            "                                                                                                  \n",
            " model_1 (Functional)           (None, None, 768)    101677056   ['input_1[0][0]',                \n",
            "                                                                  'input_2[0][0]']                \n",
            "                                                                                                  \n",
            " lambda (Lambda)                (None, 768)          0           ['model_1[0][0]']                \n",
            "                                                                                                  \n",
            " dense (Dense)                  (None, 18)           13842       ['lambda[0][0]']                 \n",
            "                                                                                                  \n",
            "==================================================================================================\n",
            "Total params: 101,690,898\n",
            "Trainable params: 101,690,898\n",
            "Non-trainable params: 0\n",
            "__________________________________________________________________________________________________\n"
          ]
        }
      ],
      "source": [
        "# 把 BERT 模型裡的每一層的trainable屬性都設成True，讓BERT模型裡的權重都可以被訓練\n",
        "for l in bert_model.layers:\n",
        "    l.trainable = True\n",
        "\n",
        "# 模型的輸入，我們會需要兩個輸入，分別是語句內容以及其對應的segments\n",
        "x1_in = Input(shape=(None,))\n",
        "x2_in = Input(shape=(None,))\n",
        "\n",
        "x = bert_model([x1_in, x2_in])\n",
        "x = Lambda(lambda x: x[:, 0])(x) # 取出[CLS]對應位置的向量出來\n",
        "p = Dense(18, activation='softmax')(x) # 輸出情緒傾向數值\n",
        "\n",
        "model = Model([x1_in, x2_in], p)\n",
        "\n",
        "model.compile(loss='sparse_categorical_crossentropy',\n",
        "                  optimizer=Adam(1e-5),    #用較小的學習率\n",
        "                  metrics=['accuracy'])\n",
        "\n",
        "model.summary()"
      ]
    },
    {
      "cell_type": "code",
      "execution_count": 12,
      "metadata": {
        "colab": {
          "base_uri": "https://localhost:8080/"
        },
        "id": "AtZ4KPqMaWya",
        "outputId": "2884c0d1-218f-4494-fac9-a5c158ec4f65"
      },
      "outputs": [
        {
          "output_type": "stream",
          "name": "stdout",
          "text": [
            "Epoch 1/10\n",
            "809/809 [==============================] - 611s 725ms/step - loss: 1.1492 - accuracy: 0.6643 - val_loss: 0.4933 - val_accuracy: 0.8576\n",
            "Epoch 2/10\n",
            "809/809 [==============================] - 592s 732ms/step - loss: 0.3504 - accuracy: 0.8971 - val_loss: 0.4510 - val_accuracy: 0.8773\n",
            "Epoch 3/10\n",
            "809/809 [==============================] - 592s 732ms/step - loss: 0.1446 - accuracy: 0.9631 - val_loss: 0.4313 - val_accuracy: 0.8853\n",
            "Epoch 4/10\n",
            "809/809 [==============================] - 593s 733ms/step - loss: 0.0676 - accuracy: 0.9824 - val_loss: 0.4682 - val_accuracy: 0.8823\n",
            "Epoch 5/10\n",
            "809/809 [==============================] - 592s 732ms/step - loss: 0.0426 - accuracy: 0.9901 - val_loss: 0.4441 - val_accuracy: 0.8952\n",
            "Epoch 6/10\n",
            "809/809 [==============================] - 592s 732ms/step - loss: 0.0414 - accuracy: 0.9869 - val_loss: 0.4784 - val_accuracy: 0.9001\n",
            "Epoch 7/10\n",
            "809/809 [==============================] - 593s 733ms/step - loss: 0.0230 - accuracy: 0.9936 - val_loss: 0.4795 - val_accuracy: 0.9011\n",
            "Epoch 8/10\n",
            "809/809 [==============================] - 593s 733ms/step - loss: 0.0319 - accuracy: 0.9921 - val_loss: 0.5168 - val_accuracy: 0.8754\n",
            "Epoch 9/10\n",
            "809/809 [==============================] - 592s 732ms/step - loss: 0.0386 - accuracy: 0.9901 - val_loss: 0.5572 - val_accuracy: 0.8892\n",
            "Epoch 10/10\n",
            "809/809 [==============================] - 592s 732ms/step - loss: 0.0145 - accuracy: 0.9963 - val_loss: 0.5579 - val_accuracy: 0.8902\n"
          ]
        }
      ],
      "source": [
        "history = model.fit(\n",
        "    X_train,\n",
        "    y_train,\n",
        "    epochs=EPOCHS,\n",
        "    batch_size=BATCH_SIZE,\n",
        "    validation_split=0.2\n",
        ")"
      ]
    },
    {
      "cell_type": "code",
      "execution_count": 13,
      "metadata": {
        "id": "zjNAlnvxagDV"
      },
      "outputs": [],
      "source": [
        "model.save('bert10-line200.h5')"
      ]
    },
    {
      "cell_type": "code",
      "execution_count": 14,
      "metadata": {
        "colab": {
          "base_uri": "https://localhost:8080/"
        },
        "id": "t78mw62yanVc",
        "outputId": "9871b728-c35f-4c30-b29a-4de293b1560b"
      },
      "outputs": [
        {
          "output_type": "stream",
          "name": "stdout",
          "text": [
            "40/40 [==============================] - 56s 1s/step - loss: 0.4390 - accuracy: 0.9177\n"
          ]
        }
      ],
      "source": [
        "scores = model.evaluate(X_test, y_test)  "
      ]
    },
    {
      "cell_type": "code",
      "execution_count": 15,
      "metadata": {
        "colab": {
          "base_uri": "https://localhost:8080/"
        },
        "id": "RecxoCJbarla",
        "outputId": "23c61f12-09be-4b98-e029-a137757b55ff"
      },
      "outputs": [
        {
          "output_type": "stream",
          "name": "stdout",
          "text": [
            "0.9177215099334717\n"
          ]
        }
      ],
      "source": [
        "print(scores[1])"
      ]
    }
  ],
  "metadata": {
    "accelerator": "GPU",
    "colab": {
      "collapsed_sections": [],
      "name": "MyBert_B2E5L200.ipynb",
      "provenance": [],
      "authorship_tag": "ABX9TyMpPC6C0p+HF2vIRRqneS1r",
      "include_colab_link": true
    },
    "kernelspec": {
      "display_name": "Python 3",
      "name": "python3"
    },
    "language_info": {
      "name": "python"
    }
  },
  "nbformat": 4,
  "nbformat_minor": 0
}